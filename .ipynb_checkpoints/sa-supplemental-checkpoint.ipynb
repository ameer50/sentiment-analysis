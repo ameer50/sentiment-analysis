{
 "cells": [
  {
   "cell_type": "code",
   "execution_count": 35,
   "metadata": {
    "ExecuteTime": {
     "end_time": "2020-06-27T19:36:49.763992Z",
     "start_time": "2020-06-27T19:36:49.745907Z"
    }
   },
   "outputs": [],
   "source": [
    "import spacy\n",
    "import  pandas as pd\n",
    "import numpy as np\n",
    "import sklearn as sk\n",
    "import matplotlib.pyplot as plt\n",
    "import seaborn as sns\n",
    "\n",
    "import spacy, en_core_web_sm\n",
    "from spacy.lang.en.stop_words import STOP_WORDS\n",
    "import string\n",
    "from spacy.lang.en import English\n",
    "# ML Packages\n",
    "from sklearn.feature_extraction.text import CountVectorizer,TfidfVectorizer\n",
    "from sklearn.metrics import accuracy_score \n",
    "from sklearn.base import TransformerMixin \n",
    "from sklearn.pipeline import Pipeline\n",
    "from sklearn.svm import LinearSVC\n",
    "from sklearn.model_selection import train_test_split"
   ]
  },
  {
   "cell_type": "code",
   "execution_count": 7,
   "metadata": {
    "ExecuteTime": {
     "end_time": "2020-06-27T19:02:30.584250Z",
     "start_time": "2020-06-27T19:02:30.568475Z"
    },
    "code_folding": [
     0
    ]
   },
   "outputs": [],
   "source": [
    "# yelp_data = pd.read_table('yelp_labelled.txt')\n",
    "# amazon_data = pd.read_table('amazon_cells_labelled.txt')\n",
    "# imdb_data = pd.read_table('imdb_labelled.txt')\n",
    "\n",
    "# combined_data= [amazon_data,imdb_data,yelp_data]"
   ]
  },
  {
   "cell_type": "code",
   "execution_count": 8,
   "metadata": {
    "ExecuteTime": {
     "end_time": "2020-06-27T19:02:31.101022Z",
     "start_time": "2020-06-27T19:02:31.084026Z"
    },
    "code_folding": [
     0
    ]
   },
   "outputs": [],
   "source": [
    "# for col in combined_data:\n",
    "#     col.columns = [\"Review\", \"Label\"]\n",
    "\n",
    "# company = [\"Amazon\", \"IMDB\", \"Yelp\"]\n",
    "\n",
    "# combined_data = pd.concat(combined_data, keys = company)"
   ]
  },
  {
   "cell_type": "code",
   "execution_count": 14,
   "metadata": {
    "ExecuteTime": {
     "end_time": "2020-06-25T03:41:22.629595Z",
     "start_time": "2020-06-25T03:41:22.597779Z"
    },
    "code_folding": []
   },
   "outputs": [],
   "source": [
    "# combined_data.to_csv(\"Sentiment-Analysis-Dataset\")"
   ]
  },
  {
   "cell_type": "markdown",
   "metadata": {},
   "source": [
    "### Data Preprocessing\n"
   ]
  },
  {
   "cell_type": "code",
   "execution_count": 36,
   "metadata": {
    "ExecuteTime": {
     "end_time": "2020-06-27T19:36:52.156660Z",
     "start_time": "2020-06-27T19:36:51.385466Z"
    }
   },
   "outputs": [],
   "source": [
    "nlp = en_core_web_sm.load()\n",
    "stopwords = list(STOP_WORDS)"
   ]
  },
  {
   "cell_type": "code",
   "execution_count": 37,
   "metadata": {
    "ExecuteTime": {
     "end_time": "2020-06-27T19:36:52.357859Z",
     "start_time": "2020-06-27T19:36:52.158177Z"
    }
   },
   "outputs": [],
   "source": [
    "punctuations = string.punctuation\n",
    "# Creating a Spacy Parser\n",
    "parser = English()"
   ]
  },
  {
   "cell_type": "code",
   "execution_count": 38,
   "metadata": {
    "ExecuteTime": {
     "end_time": "2020-06-27T19:36:52.367353Z",
     "start_time": "2020-06-27T19:36:52.359544Z"
    }
   },
   "outputs": [],
   "source": [
    "def my_tokenizer(sentence):\n",
    "    mytokens = parser(sentence)\n",
    "    mytokens = [ word.lemma_.lower().strip() if word.lemma_ != \"-PRON-\" else word.lower_ for word in mytokens ]\n",
    "    mytokens = [ word for word in mytokens if word not in stopwords and word not in punctuations ]\n",
    "    return mytokens"
   ]
  },
  {
   "cell_type": "code",
   "execution_count": 39,
   "metadata": {
    "ExecuteTime": {
     "end_time": "2020-06-27T19:36:53.536712Z",
     "start_time": "2020-06-27T19:36:53.520325Z"
    }
   },
   "outputs": [],
   "source": [
    "#Custom transformer using spaCy \n",
    "class predictors(TransformerMixin):\n",
    "    def transform(self, X, **transform_params):\n",
    "        return [clean_text(text) for text in X]\n",
    "    def fit(self, X, y, **fit_params):\n",
    "        return self\n",
    "    def get_params(self, deep=True):\n",
    "        return {}\n",
    "\n",
    "# Basic function to clean the text \n",
    "def clean_text(text):     \n",
    "    return text.strip().lower()"
   ]
  },
  {
   "cell_type": "code",
   "execution_count": 33,
   "metadata": {
    "ExecuteTime": {
     "end_time": "2020-06-27T19:31:33.189524Z",
     "start_time": "2020-06-27T19:31:33.162015Z"
    }
   },
   "outputs": [
    {
     "ename": "TypeError",
     "evalue": "'predictors' object is not callable",
     "output_type": "error",
     "traceback": [
      "\u001b[0;31m---------------------------------------------------------------------------\u001b[0m",
      "\u001b[0;31mTypeError\u001b[0m                                 Traceback (most recent call last)",
      "\u001b[0;32m<ipython-input-33-9dce48b260d5>\u001b[0m in \u001b[0;36m<module>\u001b[0;34m\u001b[0m\n\u001b[0;32m----> 1\u001b[0;31m \u001b[0mpredictors\u001b[0m \u001b[0;34m=\u001b[0m \u001b[0mpredictors\u001b[0m\u001b[0;34m(\u001b[0m\u001b[0;34m)\u001b[0m\u001b[0;34m\u001b[0m\u001b[0;34m\u001b[0m\u001b[0m\n\u001b[0m\u001b[1;32m      2\u001b[0m \u001b[0mjoblib\u001b[0m\u001b[0;34m.\u001b[0m\u001b[0mdump\u001b[0m\u001b[0;34m(\u001b[0m\u001b[0mpredictors\u001b[0m\u001b[0;34m,\u001b[0m \u001b[0;34m'predictors.pkl'\u001b[0m\u001b[0;34m)\u001b[0m\u001b[0;34m\u001b[0m\u001b[0;34m\u001b[0m\u001b[0m\n",
      "\u001b[0;31mTypeError\u001b[0m: 'predictors' object is not callable"
     ]
    }
   ],
   "source": []
  },
  {
   "cell_type": "code",
   "execution_count": 40,
   "metadata": {
    "ExecuteTime": {
     "end_time": "2020-06-27T19:36:57.737491Z",
     "start_time": "2020-06-27T19:36:57.724512Z"
    }
   },
   "outputs": [],
   "source": [
    "# Vectorization\n",
    "vectorizer = CountVectorizer(tokenizer = my_tokenizer, ngram_range=(1,1)) \n",
    "classifier = LinearSVC()\n",
    "\n",
    "# Using Tfidf\n",
    "tfvectorizer = TfidfVectorizer(tokenizer = my_tokenizer)"
   ]
  },
  {
   "cell_type": "code",
   "execution_count": 41,
   "metadata": {
    "ExecuteTime": {
     "end_time": "2020-06-27T19:36:58.309506Z",
     "start_time": "2020-06-27T19:36:58.302879Z"
    },
    "code_folding": [
     0
    ]
   },
   "outputs": [],
   "source": [
    "# import pickle\n",
    "# # Features and Labels\n",
    "# X = combined_data['Review']\n",
    "# ylabels = combined_data['Label']\n",
    "# X_train, X_test, y_train, y_test = train_test_split(X, ylabels, test_size=0.2, random_state=42)\n",
    "\n",
    "# pickle.dump(X_train, open( \"X_train.pkl\", \"wb\" ) )\n",
    "# pickle.dump(X_test, open( \"X_test.pkl\", \"wb\" ) )\n",
    "# pickle.dump(y_train, open( \"y_train.pkl\", \"wb\" ) )\n",
    "# pickle.dump(y_test, open( \"y_test.pkl\", \"wb\" ) )\n"
   ]
  },
  {
   "cell_type": "code",
   "execution_count": null,
   "metadata": {
    "ExecuteTime": {
     "end_time": "2020-06-27T19:37:00.084128Z",
     "start_time": "2020-06-27T19:36:59.089678Z"
    },
    "scrolled": false
   },
   "outputs": [],
   "source": [
    "# Create the  pipeline to clean, tokenize, vectorize, and classify using\"Count Vectorizor\"\n",
    "pipe_countvect = Pipeline([(\"cleaner\", predictors()),\n",
    "                 ('vectorizer', vectorizer),\n",
    "                 ('classifier', classifier)])\n",
    "# Fit our data\n",
    "pipe_countvect.fit(X_train,y_train)\n",
    "# Predicting with a test dataset\n",
    "sample_prediction = pipe_countvect.predict(X_test)\n",
    "\n",
    "# Prediction Results\n",
    "# 1 = Positive review\n",
    "# 0 = Negative review\n",
    "for (sample,pred) in zip(X_test,sample_prediction):\n",
    "    print(sample,\"Prediction=>\",pred)\n",
    "    \n",
    "# Accuracy\n",
    "print(\"Accuracy: \",pipe_countvect.score(X_test,y_test))\n",
    "print(\"Accuracy: \",pipe_countvect.score(X_test,sample_prediction))\n",
    "# Accuracy\n",
    "print(\"Accuracy: \",pipe_countvect.score(X_train,y_train))"
   ]
  },
  {
   "cell_type": "code",
   "execution_count": 45,
   "metadata": {
    "ExecuteTime": {
     "end_time": "2020-06-27T19:37:36.775245Z",
     "start_time": "2020-06-27T19:37:36.759173Z"
    }
   },
   "outputs": [
    {
     "data": {
      "text/plain": [
       "array([1])"
      ]
     },
     "execution_count": 45,
     "metadata": {},
     "output_type": "execute_result"
    }
   ],
   "source": [
    "pipe_countvect.predict([\"Good idea\"])"
   ]
  },
  {
   "cell_type": "code",
   "execution_count": null,
   "metadata": {},
   "outputs": [],
   "source": []
  }
 ],
 "metadata": {
  "kernelspec": {
   "display_name": "Python 3",
   "language": "python",
   "name": "python3"
  },
  "language_info": {
   "codemirror_mode": {
    "name": "ipython",
    "version": 3
   },
   "file_extension": ".py",
   "mimetype": "text/x-python",
   "name": "python",
   "nbconvert_exporter": "python",
   "pygments_lexer": "ipython3",
   "version": "3.7.6"
  }
 },
 "nbformat": 4,
 "nbformat_minor": 4
}
