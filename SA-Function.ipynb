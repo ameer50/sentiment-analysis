{
 "cells": [
  {
   "cell_type": "markdown",
   "metadata": {},
   "source": [
    "# Basic Sentiment Analysis with spaCy\n",
    "#### Ameer Syedibrahim"
   ]
  },
  {
   "cell_type": "code",
   "execution_count": 1,
   "metadata": {
    "ExecuteTime": {
     "end_time": "2020-07-06T00:42:02.378972Z",
     "start_time": "2020-07-06T00:42:01.422087Z"
    },
    "scrolled": true
   },
   "outputs": [],
   "source": [
    "import pickle, joblib\n",
    "from transformation import predictors, my_tokenizer"
   ]
  },
  {
   "cell_type": "markdown",
   "metadata": {},
   "source": [
    "## Pipeline\n",
    "\n",
    "The pipeline below cleans, vectorizes (includes tokenization), and classifies the data \n",
    "<br>\n",
    "\n",
    "```\n",
    "pipeline = Pipeline([(\"cleaner\", predictors()),\n",
    "                 ('vectorizer', vectorizer),\n",
    "                 ('classifier', classifier)])\n",
    "```\n",
    "\n",
    "<br>\n",
    "\n",
    "The classifier is a LinearSVC that was fed the data from Sentiment-Analysis-Dataset file, which includes data from Yelp, IMDB, and Amazon reviews. Classifier achieved an accuracy of 0.77\n",
    "\n",
    "Pipeline was saved into a pickle file, **model.pkl** , with the two dependencies (predictor and my_tokenizer) extracted to a separate class and imported"
   ]
  },
  {
   "cell_type": "markdown",
   "metadata": {
    "ExecuteTime": {
     "end_time": "2020-06-27T20:40:55.312247Z",
     "start_time": "2020-06-27T20:40:55.300344Z"
    }
   },
   "source": [
    "### Supporting Files\n",
    "\n",
    "Code for training the model with data can be found in the supplementary file 'sentiment-analysis.ipynb'"
   ]
  },
  {
   "cell_type": "markdown",
   "metadata": {},
   "source": [
    "## <span style=\"background-color: #FFFF00\">deriveSentiment function</span>\n",
    "\n",
    "Accepts a statement (String) and returns 1 or 0 for a positive or negative sentiment respectively "
   ]
  },
  {
   "cell_type": "code",
   "execution_count": 2,
   "metadata": {
    "ExecuteTime": {
     "end_time": "2020-07-06T00:42:04.045302Z",
     "start_time": "2020-07-06T00:42:04.036380Z"
    }
   },
   "outputs": [],
   "source": [
    "def deriveSentiment(statement):\n",
    "    pipeline = joblib.load('model.pkl')\n",
    "    return pipeline.predict([statement])[0]"
   ]
  },
  {
   "cell_type": "code",
   "execution_count": 3,
   "metadata": {
    "ExecuteTime": {
     "end_time": "2020-07-06T00:42:06.342122Z",
     "start_time": "2020-07-06T00:42:04.820177Z"
    }
   },
   "outputs": [
    {
     "name": "stdout",
     "output_type": "stream",
     "text": [
      "Score:  1\n"
     ]
    }
   ],
   "source": [
    "score = deriveSentiment(\"Good work\")\n",
    "print(\"Score: \", score)"
   ]
  },
  {
   "cell_type": "code",
   "execution_count": null,
   "metadata": {},
   "outputs": [],
   "source": []
  }
 ],
 "metadata": {
  "kernelspec": {
   "display_name": "Python 3",
   "language": "python",
   "name": "python3"
  },
  "language_info": {
   "codemirror_mode": {
    "name": "ipython",
    "version": 3
   },
   "file_extension": ".py",
   "mimetype": "text/x-python",
   "name": "python",
   "nbconvert_exporter": "python",
   "pygments_lexer": "ipython3",
   "version": "3.7.6"
  }
 },
 "nbformat": 4,
 "nbformat_minor": 4
}
